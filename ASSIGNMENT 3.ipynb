{
 "cells": [
  {
   "cell_type": "markdown",
   "metadata": {},
   "source": [
    "#  1-CALCULATOR"
   ]
  },
  {
   "cell_type": "code",
   "execution_count": 5,
   "metadata": {},
   "outputs": [
    {
     "name": "stdout",
     "output_type": "stream",
     "text": [
      "\t\t\t Calculator\n",
      "Enter any value2\n",
      "Enter any value2\n",
      "enter any operator^\n",
      "4\n"
     ]
    }
   ],
   "source": [
    "print(\"\\t\\t\\t Calculator\")\n",
    "value1=(int(input(\"Enter any value\")))\n",
    "value2=(int(input(\"Enter any value\")))\n",
    "operator=input(\"enter any operator\")\n",
    "if operator== \"+\":\n",
    "    val=value1+value2\n",
    "    print(val,\"Addition\")\n",
    "elif operator== \"-\":\n",
    "    val=value1-value2\n",
    "    print(val,\"Substraction\")\n",
    "elif operator== \"*\":\n",
    "    val=value1*value2\n",
    "    print(val,\"Multiplication\")\n",
    "elif operator== \"/\":\n",
    "    val=value1/value2\n",
    "    print(val,\"division\")\n",
    "elif operator== \"^\":\n",
    "    print(2**value1)\n",
    "else:\n",
    "    print(\"enter correct operator: \")\n",
    "\n",
    "\n",
    "     \n"
   ]
  },
  {
   "cell_type": "markdown",
   "metadata": {},
   "source": [
    "#  write a program to check any numeric value in list:\n"
   ]
  },
  {
   "cell_type": "code",
   "execution_count": 42,
   "metadata": {},
   "outputs": [
    {
     "name": "stdout",
     "output_type": "stream",
     "text": [
      "23\n",
      "67\n",
      "45\n",
      "99\n"
     ]
    }
   ],
   "source": [
    "list=[23,67,45,99]\n",
    "for num in list:\n",
    "    print(num)\n"
   ]
  },
  {
   "cell_type": "markdown",
   "metadata": {},
   "source": [
    "# add keys in dictionary:"
   ]
  },
  {
   "cell_type": "code",
   "execution_count": 54,
   "metadata": {},
   "outputs": [
    {
     "name": "stdout",
     "output_type": "stream",
     "text": [
      "before adding keys in dictionary:  {'name': 'ahmad', 'roll no': '434', 'depart': 'BSCS'}\n",
      "after adding key in dictionary:   {'name': 'ahmad', 'roll no': '434', 'depart': 'BSCS', 3: 'address'}\n"
     ]
    }
   ],
   "source": [
    "dict={\"name\":\"ahmad\",\"roll no\":\"434\",\"depart\": \"BSCS\"\n",
    "    \n",
    "}\n",
    "print(\"before adding keys in dictionary: \",dict)\n",
    "dict[3]='address' #add keys in dictionary\n",
    "print(\"after adding key in dictionary:  \",dict)\n"
   ]
  },
  {
   "cell_type": "markdown",
   "metadata": {},
   "source": [
    "#  write a program to sum all numerics item in dict:"
   ]
  },
  {
   "cell_type": "code",
   "execution_count": 13,
   "metadata": {},
   "outputs": [
    {
     "name": "stdout",
     "output_type": "stream",
     "text": [
      "sum of numeric item is 178\n"
     ]
    }
   ],
   "source": [
    "dict={'a':30,'b':49,'c':9,'d':90\n",
    "    \n",
    "}\n",
    "total=sum(dict.values())\n",
    "print(\"sum of numeric item is\",total)\n"
   ]
  },
  {
   "cell_type": "markdown",
   "metadata": {
    "collapsed": true
   },
   "source": [
    "# write a program to check duplicate value in list:"
   ]
  },
  {
   "cell_type": "code",
   "execution_count": 7,
   "metadata": {},
   "outputs": [
    {
     "name": "stdout",
     "output_type": "stream",
     "text": [
      "duplictae value in list is:  [1, 2, 3]\n"
     ]
    }
   ],
   "source": [
    "list=[\"abdulrehman\",1,1,1,23,4,56,7]\n",
    "list2=[i for i in range (len(list)) if list[i] ==1]\n",
    "print(\"duplictae value in list is: \",list2)"
   ]
  },
  {
   "cell_type": "markdown",
   "metadata": {},
   "source": [
    "# write a program to check given key exsist in dictionary:\n"
   ]
  },
  {
   "cell_type": "code",
   "execution_count": 10,
   "metadata": {},
   "outputs": [
    {
     "name": "stdout",
     "output_type": "stream",
     "text": [
      "enter a key to check if it exsist or notname\n",
      "key is present in dictionary: \n",
      "value : 1\n"
     ]
    }
   ],
   "source": [
    "dict={\"name\":1,\"father\":2,\"address\":3\n",
    "    \n",
    "}\n",
    "user_ip=input(\"enter a key to check if it exsist or not\")\n",
    "if user_ip in dict.keys():\n",
    "    print(\"key is present in dictionary: \")\n",
    "    print('value',':',dict[user_ip])\n",
    "else:\n",
    "    print(\"key is not present in dictionary\")\n"
   ]
  },
  {
   "cell_type": "code",
   "execution_count": null,
   "metadata": {
    "collapsed": true
   },
   "outputs": [],
   "source": []
  }
 ],
 "metadata": {
  "kernelspec": {
   "display_name": "Python 3",
   "language": "python",
   "name": "python3"
  },
  "language_info": {
   "codemirror_mode": {
    "name": "ipython",
    "version": 3
   },
   "file_extension": ".py",
   "mimetype": "text/x-python",
   "name": "python",
   "nbconvert_exporter": "python",
   "pygments_lexer": "ipython3",
   "version": "3.6.3"
  }
 },
 "nbformat": 4,
 "nbformat_minor": 2
}
