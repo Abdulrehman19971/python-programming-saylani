


question 1



In [18]:


















dict={"first_name":"abdulrehman","last_name":"shahidmehmood","city":"karachi","age":"22"
    
}
print(dict)
dict['qualification']='high academic level'
print(dict)
del dict['qualification']
print(dict)







{'first_name': 'abdulrehman', 'last_name': 'shahidmehmood', 'city': 'karachi', 'age': '22'}
{'first_name': 'abdulrehman', 'last_name': 'shahidmehmood', 'city': 'karachi', 'age': '22', 'qualification': 'high academic level'}
{'first_name': 'abdulrehman', 'last_name': 'shahidmehmood', 'city': 'karachi', 'age': '22'}






question 2



In [3]:

















city_karachi={
    "karachi":"pakistan","population":"3million","water":"shortage"
}
city_mumbai={
    "mumbai":"india","population":"10million","old name":"bombay"
​
}
city_dhaka={
    "dhaka":"bangladesh","population":"8.9 million"
}
​
print(city_karachi)
​
print(city_mumbai)
​
print(city_dhaka)
​







{'karachi': 'pakistan', 'population': '3million', 'water': 'shortage'}
{'mumbai': 'india', 'population': '10million', 'old name': 'bombay'}
{'dhaka': 'bangladesh', 'population': '8.9 million'}






question no 3



In [ ]:

















numbers=int(input("Enter the number of persons you are ? "))
ages=[]
prices=[]
for i in range(numbers):
    ages.append(int(input("Enter {} person age".format(i+1))))
    if ages[i] <3 :
        prices.append(0)
    elif ages[i]>=3 and ages[i] <=12:
        prices.append(10)
    elif ages[i] > 12:
        prices.append(15)
total=sum(prices) 
print()
for i in range(len(ages)):
    print("{} person with age of {} ticket price is ==>\t{} $".format(i+1,ages[i],prices[i]))
print("------------------------------------------------------------")
print("Total is =================================>\t",total,"$")
​








question no 4













# question no 4




In [1]:

















​
def favorite_book(title):
    print("ONe of my favorite book is ",title)
    
favorite_book("Alice in Wonderland")







ONe of my favorite book is  Alice in Wonderland







question 5













# question 5




In [2]:

















​
import random 
​
print("********** GAME RULES *********")
print("In this game you will got 3 chances to win the games")
print("Enter the guess between 1 to 30")
print("If you entered out of range then you will not miss the chances")
print()
chances=3
n=random.randint(1,30)
while chances !=0 :
    guess=int(input("Enter your guess  :  "))
    chances-=1
    if guess == n:
        print("you win")
        break
        
    elif guess < 1 or guess >30:
        print("Enter number between 1 to 30")
        print("You got one more chance ")
        chances+=1
    elif guess > n:
        print("You entered greater number")
        
    elif guess < n:
        print("You entered less number")
    
    print("{} chances left".format(chances))
    print()
    
else:
    print("You lost the game")
    







********** GAME RULES *********
In this game you will got 3 chances to win the games
Enter the guess between 1 to 30
If you entered out of range then you will not miss the chances

Enter your guess  :  15
You entered greater number
2 chances left

Enter your guess  :  20
You entered greater number
1 chances left

Enter your guess  :  30
You entered greater number
0 chances left

You lost the game




In [ ]:

















​





In [ ]:
















