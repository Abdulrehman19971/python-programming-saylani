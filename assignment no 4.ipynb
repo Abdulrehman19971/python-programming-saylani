{
 "cells": [
  {
   "cell_type": "markdown",
   "metadata": {},
   "source": [
    "# question 1"
   ]
  },
  {
   "cell_type": "code",
   "execution_count": 18,
   "metadata": {},
   "outputs": [
    {
     "name": "stdout",
     "output_type": "stream",
     "text": [
      "{'first_name': 'abdulrehman', 'last_name': 'shahidmehmood', 'city': 'karachi', 'age': '22'}\n",
      "{'first_name': 'abdulrehman', 'last_name': 'shahidmehmood', 'city': 'karachi', 'age': '22', 'qualification': 'high academic level'}\n",
      "{'first_name': 'abdulrehman', 'last_name': 'shahidmehmood', 'city': 'karachi', 'age': '22'}\n"
     ]
    }
   ],
   "source": [
    "dict={\"first_name\":\"abdulrehman\",\"last_name\":\"shahidmehmood\",\"city\":\"karachi\",\"age\":\"22\"\n",
    "    \n",
    "}\n",
    "print(dict)\n",
    "dict['qualification']='high academic level'\n",
    "print(dict)\n",
    "del dict['qualification']\n",
    "print(dict)"
   ]
  },
  {
   "cell_type": "markdown",
   "metadata": {},
   "source": [
    "# question 2"
   ]
  },
  {
   "cell_type": "code",
   "execution_count": 3,
   "metadata": {},
   "outputs": [
    {
     "name": "stdout",
     "output_type": "stream",
     "text": [
      "{'karachi': 'pakistan', 'population': '3million', 'water': 'shortage'}\n",
      "{'mumbai': 'india', 'population': '10million', 'old name': 'bombay'}\n",
      "{'dhaka': 'bangladesh', 'population': '8.9 million'}\n"
     ]
    }
   ],
   "source": [
    "city_karachi={\n",
    "    \"karachi\":\"pakistan\",\"population\":\"3million\",\"water\":\"shortage\"\n",
    "}\n",
    "city_mumbai={\n",
    "    \"mumbai\":\"india\",\"population\":\"10million\",\"old name\":\"bombay\"\n",
    "\n",
    "}\n",
    "city_dhaka={\n",
    "    \"dhaka\":\"bangladesh\",\"population\":\"8.9 million\"\n",
    "}\n",
    "\n",
    "print(city_karachi)\n",
    "\n",
    "print(city_mumbai)\n",
    "\n",
    "print(city_dhaka)\n"
   ]
  },
  {
   "cell_type": "markdown",
   "metadata": {},
   "source": [
    "# question no 3"
   ]
  },
  {
   "cell_type": "code",
   "execution_count": null,
   "metadata": {
    "collapsed": true
   },
   "outputs": [],
   "source": [
    "numbers=int(input(\"Enter the number of persons you are ? \"))\n",
    "ages=[]\n",
    "prices=[]\n",
    "for i in range(numbers):\n",
    "    ages.append(int(input(\"Enter {} person age\".format(i+1))))\n",
    "    if ages[i] <3 :\n",
    "        prices.append(0)\n",
    "    elif ages[i]>=3 and ages[i] <=12:\n",
    "        prices.append(10)\n",
    "    elif ages[i] > 12:\n",
    "        prices.append(15)\n",
    "total=sum(prices) \n",
    "print()\n",
    "for i in range(len(ages)):\n",
    "    print(\"{} person with age of {} ticket price is ==>\\t{} $\".format(i+1,ages[i],prices[i]))\n",
    "print(\"------------------------------------------------------------\")\n",
    "print(\"Total is =================================>\\t\",total,\"$\")\n"
   ]
  },
  {
   "cell_type": "markdown",
   "metadata": {},
   "source": [
    "# question no 4"
   ]
  },
  {
   "cell_type": "code",
   "execution_count": 1,
   "metadata": {},
   "outputs": [
    {
     "name": "stdout",
     "output_type": "stream",
     "text": [
      "ONe of my favorite book is  Alice in Wonderland\n"
     ]
    }
   ],
   "source": [
    "\n",
    "def favorite_book(title):\n",
    "    print(\"ONe of my favorite book is \",title)\n",
    "    \n",
    "favorite_book(\"Alice in Wonderland\")"
   ]
  },
  {
   "cell_type": "markdown",
   "metadata": {},
   "source": [
    "# question 5"
   ]
  },
  {
   "cell_type": "code",
   "execution_count": 2,
   "metadata": {},
   "outputs": [
    {
     "name": "stdout",
     "output_type": "stream",
     "text": [
      "********** GAME RULES *********\n",
      "In this game you will got 3 chances to win the games\n",
      "Enter the guess between 1 to 30\n",
      "If you entered out of range then you will not miss the chances\n",
      "\n",
      "Enter your guess  :  15\n",
      "You entered greater number\n",
      "2 chances left\n",
      "\n",
      "Enter your guess  :  20\n",
      "You entered greater number\n",
      "1 chances left\n",
      "\n",
      "Enter your guess  :  30\n",
      "You entered greater number\n",
      "0 chances left\n",
      "\n",
      "You lost the game\n"
     ]
    }
   ],
   "source": [
    "\n",
    "import random \n",
    "\n",
    "print(\"********** GAME RULES *********\")\n",
    "print(\"In this game you will got 3 chances to win the games\")\n",
    "print(\"Enter the guess between 1 to 30\")\n",
    "print(\"If you entered out of range then you will not miss the chances\")\n",
    "print()\n",
    "chances=3\n",
    "n=random.randint(1,30)\n",
    "while chances !=0 :\n",
    "    guess=int(input(\"Enter your guess  :  \"))\n",
    "    chances-=1\n",
    "    if guess == n:\n",
    "        print(\"you win\")\n",
    "        break\n",
    "        \n",
    "    elif guess < 1 or guess >30:\n",
    "        print(\"Enter number between 1 to 30\")\n",
    "        print(\"You got one more chance \")\n",
    "        chances+=1\n",
    "    elif guess > n:\n",
    "        print(\"You entered greater number\")\n",
    "        \n",
    "    elif guess < n:\n",
    "        print(\"You entered less number\")\n",
    "    \n",
    "    print(\"{} chances left\".format(chances))\n",
    "    print()\n",
    "    \n",
    "else:\n",
    "    print(\"You lost the game\")\n",
    "    "
   ]
  },
  {
   "cell_type": "code",
   "execution_count": null,
   "metadata": {
    "collapsed": true
   },
   "outputs": [],
   "source": []
  },
  {
   "cell_type": "code",
   "execution_count": null,
   "metadata": {
    "collapsed": true
   },
   "outputs": [],
   "source": []
  }
 ],
 "metadata": {
  "kernelspec": {
   "display_name": "Python 3",
   "language": "python",
   "name": "python3"
  }
 },
 "nbformat": 4,
 "nbformat_minor": 2
}
